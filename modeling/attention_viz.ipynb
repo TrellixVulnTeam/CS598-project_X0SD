{
 "cells": [
  {
   "cell_type": "code",
   "execution_count": 2,
   "id": "3a34745a-c797-47cb-a8f8-a7ce52080a5a",
   "metadata": {
    "execution": {
     "iopub.execute_input": "2022-05-08T13:52:38.600294Z",
     "iopub.status.busy": "2022-05-08T13:52:38.599878Z",
     "iopub.status.idle": "2022-05-08T13:52:41.437161Z",
     "shell.execute_reply": "2022-05-08T13:52:41.436502Z",
     "shell.execute_reply.started": "2022-05-08T13:52:38.600272Z"
    },
    "tags": []
   },
   "outputs": [
    {
     "name": "stdout",
     "output_type": "stream",
     "text": [
      "in the modeling class\n"
     ]
    }
   ],
   "source": [
    "from transformers import AutoTokenizer, AutoModel, BertTokenizer\n",
    "from transformers import AdamW, get_linear_schedule_with_warmup\n",
    "from bert_utils import BertForSequenceClassification\n",
    "from torch.utils.data import TensorDataset, DataLoader, SequentialSampler\n",
    "import os\n",
    "from modeling.modeling_utils import *\n",
    "from transformers.optimization import get_linear_schedule_with_warmup, AdamW, get_cosine_schedule_with_warmup\n",
    "import json\n",
    "import torch\n",
    "\n",
    "import logging\n",
    "import json\n",
    "import matplotlib.pyplot as plt\n",
    "from csv import DictWriter"
   ]
  },
  {
   "cell_type": "code",
   "execution_count": 3,
   "id": "363fb8a5-dec1-4cea-81f7-69c06457dd65",
   "metadata": {
    "execution": {
     "iopub.execute_input": "2022-05-08T13:52:41.438344Z",
     "iopub.status.busy": "2022-05-08T13:52:41.438081Z",
     "iopub.status.idle": "2022-05-08T13:52:41.448820Z",
     "shell.execute_reply": "2022-05-08T13:52:41.448372Z",
     "shell.execute_reply.started": "2022-05-08T13:52:41.438325Z"
    },
    "tags": []
   },
   "outputs": [
    {
     "name": "stdout",
     "output_type": "stream",
     "text": [
      "/home/x1112373/clinicalBERT/CS598-project\n"
     ]
    }
   ],
   "source": [
    "cd .."
   ]
  },
  {
   "cell_type": "code",
   "execution_count": 4,
   "id": "8ce90e58-0fe5-4c4e-90a7-b75c9c2f7c60",
   "metadata": {
    "execution": {
     "iopub.execute_input": "2022-05-08T13:52:41.449853Z",
     "iopub.status.busy": "2022-05-08T13:52:41.449634Z",
     "iopub.status.idle": "2022-05-08T13:52:47.266145Z",
     "shell.execute_reply": "2022-05-08T13:52:47.264859Z",
     "shell.execute_reply.started": "2022-05-08T13:52:41.449835Z"
    },
    "tags": []
   },
   "outputs": [
    {
     "name": "stderr",
     "output_type": "stream",
     "text": [
      "05/08/2022 22:52:41 - INFO - bert_utils -   loading archive file ./pretraining\n",
      "05/08/2022 22:52:41 - INFO - bert_utils -   Model config {\n",
      "  \"attention_probs_dropout_prob\": 0.1,\n",
      "  \"hidden_act\": \"gelu\",\n",
      "  \"hidden_dropout_prob\": 0.1,\n",
      "  \"hidden_size\": 768,\n",
      "  \"initializer_range\": 0.02,\n",
      "  \"intermediate_size\": 3072,\n",
      "  \"max_position_embeddings\": 512,\n",
      "  \"num_attention_heads\": 12,\n",
      "  \"num_hidden_layers\": 12,\n",
      "  \"type_vocab_size\": 2,\n",
      "  \"vocab_size\": 30522\n",
      "}\n",
      "\n"
     ]
    },
    {
     "data": {
      "text/plain": [
       "<All keys matched successfully>"
      ]
     },
     "execution_count": 4,
     "metadata": {},
     "output_type": "execute_result"
    }
   ],
   "source": [
    "best_model_path = './experiment/readmission_model_experiment/readmission_clinical_bert_BATCH_SIZE_16_LEARNING_RATE_2e-05_gradient_accu_2_MAX_GRAD_NORM_1_0.pt'\n",
    "Classifier = BertForSequenceClassification.from_pretrained('./pretraining', 1)\n",
    "Classifier.load_state_dict(torch.load(best_model_path))"
   ]
  },
  {
   "cell_type": "code",
   "execution_count": 5,
   "id": "db02d725-e93f-4250-9e46-57cb3e10521b",
   "metadata": {
    "execution": {
     "iopub.execute_input": "2022-05-08T13:52:47.270511Z",
     "iopub.status.busy": "2022-05-08T13:52:47.270006Z",
     "iopub.status.idle": "2022-05-08T13:52:47.277211Z",
     "shell.execute_reply": "2022-05-08T13:52:47.276640Z",
     "shell.execute_reply.started": "2022-05-08T13:52:47.270467Z"
    },
    "tags": []
   },
   "outputs": [],
   "source": [
    "def transpose_for_scores(config, x):\n",
    "    new_x_shape = x.size()[:-1] + (config.num_attention_heads, int(config.hidden_size / config.num_attention_heads))\n",
    "    x = x.view(*new_x_shape)\n",
    "    return x.permute(0, 2, 1, 3)"
   ]
  },
  {
   "cell_type": "code",
   "execution_count": 6,
   "id": "6183c7f4-4ffa-463a-bb7e-628c22a35577",
   "metadata": {
    "execution": {
     "iopub.execute_input": "2022-05-08T13:52:47.278197Z",
     "iopub.status.busy": "2022-05-08T13:52:47.277991Z",
     "iopub.status.idle": "2022-05-08T13:52:47.290297Z",
     "shell.execute_reply": "2022-05-08T13:52:47.289773Z",
     "shell.execute_reply.started": "2022-05-08T13:52:47.278178Z"
    },
    "tags": []
   },
   "outputs": [],
   "source": [
    "def get_attention_scores(model,i,text):\n",
    "    tokenized=tokenizer.tokenize(text)\n",
    "\n",
    "    indexed_tokens=tokenizer.convert_tokens_to_ids(tokenized)\n",
    "\n",
    "    segment_ids=[0]*len(indexed_tokens)\n",
    "    t_tensor=torch.tensor([indexed_tokens])\n",
    "    s_ids=torch.tensor([segment_ids])\n",
    "\n",
    "    outputs_query= []\n",
    "    outputs_key= []\n",
    "\n",
    "    def hook_query(module, input, output):\n",
    "        #print ('in query')\n",
    "        outputs_query.append(output)\n",
    "\n",
    "    def hook_key(module, input, output):\n",
    "        #print ('in key')\n",
    "        outputs_key.append(output)\n",
    "\n",
    "    model.bert.encoder.layer[i].attention.self.query.register_forward_hook(hook_query)\n",
    "    model.bert.encoder.layer[i].attention.self.key.register_forward_hook(hook_key)\n",
    "    l=model(t_tensor,s_ids)\n",
    "    \n",
    "    query_layer = transpose_for_scores(bert_config,outputs_query[0])\n",
    "    key_layer = transpose_for_scores(bert_config,outputs_key[0])\n",
    "    \n",
    "    attention_scores = torch.matmul(query_layer, key_layer.transpose(-1, -2))\n",
    "    attention_scores = attention_scores / math.sqrt(int(bert_config.hidden_size / bert_config.num_attention_heads))\n",
    "    attention_probs = nn.Softmax(dim=-1)(attention_scores)\n",
    "    \n",
    "    return attention_probs,tokenized"
   ]
  },
  {
   "cell_type": "code",
   "execution_count": 7,
   "id": "45d76c21-295f-4d37-ba69-892e9fc88561",
   "metadata": {
    "execution": {
     "iopub.execute_input": "2022-05-08T13:52:47.294599Z",
     "iopub.status.busy": "2022-05-08T13:52:47.294285Z",
     "iopub.status.idle": "2022-05-08T13:53:34.465864Z",
     "shell.execute_reply": "2022-05-08T13:53:34.465117Z",
     "shell.execute_reply.started": "2022-05-08T13:52:47.294583Z"
    },
    "tags": []
   },
   "outputs": [],
   "source": [
    "need_proxy = True\n",
    "if need_proxy:\n",
    "    local_test = False\n",
    "    proxy_file_path = f\"./secrets.json\"\n",
    "\n",
    "if local_test:\n",
    "    tokenizer = AutoTokenizer.from_pretrained('bert-base-uncased')\n",
    "else:\n",
    "    with open(proxy_file_path, \"r\") as json_file:\n",
    "        json_data = json.load(json_file)\n",
    "        proxies = json_data['proxies']\n",
    "        tokenizer = AutoTokenizer.from_pretrained('bert-base-uncased', proxies=proxies) \n"
   ]
  },
  {
   "cell_type": "code",
   "execution_count": 8,
   "id": "fe92b03d-f797-422f-879e-6b19ac46771e",
   "metadata": {
    "execution": {
     "iopub.execute_input": "2022-05-08T13:53:34.467040Z",
     "iopub.status.busy": "2022-05-08T13:53:34.466758Z",
     "iopub.status.idle": "2022-05-08T13:53:34.476685Z",
     "shell.execute_reply": "2022-05-08T13:53:34.475692Z",
     "shell.execute_reply.started": "2022-05-08T13:53:34.467020Z"
    },
    "tags": []
   },
   "outputs": [
    {
     "name": "stdout",
     "output_type": "stream",
     "text": [
      "/home/x1112373/clinicalBERT/CS598-project/modeling\n"
     ]
    }
   ],
   "source": [
    "cd modeling"
   ]
  },
  {
   "cell_type": "code",
   "execution_count": 9,
   "id": "0b03a77a-949f-4c41-83f0-1d0c60d6df01",
   "metadata": {
    "execution": {
     "iopub.execute_input": "2022-05-08T13:53:34.478484Z",
     "iopub.status.busy": "2022-05-08T13:53:34.478065Z",
     "iopub.status.idle": "2022-05-08T13:53:34.485334Z",
     "shell.execute_reply": "2022-05-08T13:53:34.484477Z",
     "shell.execute_reply.started": "2022-05-08T13:53:34.478441Z"
    },
    "tags": []
   },
   "outputs": [
    {
     "data": {
      "text/plain": [
       "'/home/x1112373/clinicalBERT/CS598-project/modeling'"
      ]
     },
     "execution_count": 9,
     "metadata": {},
     "output_type": "execute_result"
    }
   ],
   "source": [
    "pwd"
   ]
  },
  {
   "cell_type": "code",
   "execution_count": 10,
   "id": "282c0ce9-eff6-4c4d-8422-57d038e2800a",
   "metadata": {
    "execution": {
     "iopub.execute_input": "2022-05-08T13:53:34.487051Z",
     "iopub.status.busy": "2022-05-08T13:53:34.486694Z",
     "iopub.status.idle": "2022-05-08T13:53:34.497098Z",
     "shell.execute_reply": "2022-05-08T13:53:34.496422Z",
     "shell.execute_reply.started": "2022-05-08T13:53:34.487028Z"
    },
    "tags": []
   },
   "outputs": [],
   "source": [
    "from bert_utils import BertConfig\n",
    "import math\n",
    "bert_config = BertConfig.from_json_file('../pretraining/bert_config.json')\n",
    "#model = BertForSequenceClassification(bert_config, 1)"
   ]
  },
  {
   "cell_type": "code",
   "execution_count": 11,
   "id": "b5bcabf0-7cb8-4fdb-9134-6cfd2e77237d",
   "metadata": {
    "execution": {
     "iopub.execute_input": "2022-05-08T13:53:34.498239Z",
     "iopub.status.busy": "2022-05-08T13:53:34.497999Z",
     "iopub.status.idle": "2022-05-08T13:53:34.594726Z",
     "shell.execute_reply": "2022-05-08T13:53:34.594242Z",
     "shell.execute_reply.started": "2022-05-08T13:53:34.498215Z"
    },
    "tags": []
   },
   "outputs": [],
   "source": [
    "text=' he has experienced acute on chronic diastolic heart failure in the setting of volume overload due to his sepsis.'\n",
    "x, tokens=get_attention_scores(Classifier,0,text)"
   ]
  },
  {
   "cell_type": "code",
   "execution_count": 12,
   "id": "166fb0e2-7562-4aa6-8370-f28177bea2fc",
   "metadata": {
    "execution": {
     "iopub.execute_input": "2022-05-08T13:53:34.596288Z",
     "iopub.status.busy": "2022-05-08T13:53:34.596099Z",
     "iopub.status.idle": "2022-05-08T13:53:34.599913Z",
     "shell.execute_reply": "2022-05-08T13:53:34.599557Z",
     "shell.execute_reply.started": "2022-05-08T13:53:34.596270Z"
    },
    "tags": []
   },
   "outputs": [
    {
     "data": {
      "text/plain": [
       "24"
      ]
     },
     "execution_count": 12,
     "metadata": {},
     "output_type": "execute_result"
    }
   ],
   "source": [
    "map1=np.asarray(x[0][1].detach().numpy())\n",
    "\n",
    "len(tokens)"
   ]
  },
  {
   "cell_type": "code",
   "execution_count": 13,
   "id": "c01660bf-0ca0-4f90-9ebf-512b1eb18ff4",
   "metadata": {
    "execution": {
     "iopub.execute_input": "2022-05-08T13:53:34.600680Z",
     "iopub.status.busy": "2022-05-08T13:53:34.600442Z",
     "iopub.status.idle": "2022-05-08T13:53:34.684066Z",
     "shell.execute_reply": "2022-05-08T13:53:34.683518Z",
     "shell.execute_reply.started": "2022-05-08T13:53:34.600665Z"
    },
    "tags": []
   },
   "outputs": [
    {
     "data": {
      "text/plain": [
       "<matplotlib.axes._subplots.AxesSubplot at 0x7feaf0181790>"
      ]
     },
     "execution_count": 13,
     "metadata": {},
     "output_type": "execute_result"
    }
   ],
   "source": [
    "import seaborn as sns\n",
    "f, ax = plt.subplots(figsize=(6,8))\n",
    "sns.heatmap(map1, annot=False, fmt=\"f\", ax=ax, xticklabels = False, yticklabels = False, vmax=0.4, cmap='Reds', cbar_kws={'label':'Attention Weight', 'orientation':'horizontal'}, rasterized = True)"
   ]
  },
  {
   "cell_type": "code",
   "execution_count": 14,
   "id": "2e0aeb5e-5e78-498d-a825-13a70a92cc69",
   "metadata": {
    "execution": {
     "iopub.execute_input": "2022-05-08T13:53:34.685011Z",
     "iopub.status.busy": "2022-05-08T13:53:34.684792Z",
     "iopub.status.idle": "2022-05-08T13:53:34.691431Z",
     "shell.execute_reply": "2022-05-08T13:53:34.690855Z",
     "shell.execute_reply.started": "2022-05-08T13:53:34.684992Z"
    },
    "tags": []
   },
   "outputs": [],
   "source": [
    "import matplotlib.pyplot as plt\n",
    "%matplotlib inline"
   ]
  },
  {
   "cell_type": "code",
   "execution_count": 15,
   "id": "e2a9db35-7416-4f3d-98bb-30e12454ab6e",
   "metadata": {
    "execution": {
     "iopub.execute_input": "2022-05-08T13:53:34.692335Z",
     "iopub.status.busy": "2022-05-08T13:53:34.692139Z",
     "iopub.status.idle": "2022-05-08T13:53:34.972104Z",
     "shell.execute_reply": "2022-05-08T13:53:34.971520Z",
     "shell.execute_reply.started": "2022-05-08T13:53:34.692317Z"
    },
    "tags": []
   },
   "outputs": [
    {
     "data": {
      "text/plain": [
       "<Figure size 432x288 with 0 Axes>"
      ]
     },
     "metadata": {},
     "output_type": "display_data"
    },
    {
     "data": {
      "image/png": "[encoded data removed]",
      "text/plain": [
       "<Figure size 720x720 with 1 Axes>"
      ]
     },
     "metadata": {
      "needs_background": "light"
     },
     "output_type": "display_data"
    }
   ],
   "source": [
    "plt.clf()\n",
    "\n",
    "f=plt.figure(figsize=(10,10))\n",
    "ax = f.add_subplot(1,1,1)\n",
    "i=ax.imshow(map1,interpolation='nearest',cmap='Reds')\n",
    "\n",
    "ax.set_yticks(range(len(tokens)))\n",
    "ax.set_yticklabels(tokens)\n",
    "\n",
    "ax.set_xticks(range(len(tokens)))\n",
    "ax.set_xticklabels(tokens, rotation=90)\n",
    "\n",
    "ax.set_xlabel('key')\n",
    "ax.set_ylabel('query')\n",
    "\n",
    "ax.grid(linewidth = 0.8)"
   ]
  }
 ],
 "metadata": {
  "kernelspec": {
   "display_name": "Python 3 (ipykernel)",
   "language": "python",
   "name": "python3"
  },
  "language_info": {
   "codemirror_mode": {
    "name": "ipython",
    "version": 3
   },
   "file_extension": ".py",
   "mimetype": "text/x-python",
   "name": "python",
   "nbconvert_exporter": "python",
   "pygments_lexer": "ipython3",
   "version": "3.8.12"
  }
 },
 "nbformat": 4,
 "nbformat_minor": 5
}
