{
 "cells": [
  {
   "cell_type": "code",
   "execution_count": 10,
   "id": "d965a963-8acb-492f-b948-dfa8fbb151ea",
   "metadata": {
    "execution": {
     "iopub.execute_input": "2022-04-29T06:08:04.074859Z",
     "iopub.status.busy": "2022-04-29T06:08:04.074275Z",
     "iopub.status.idle": "2022-04-29T06:08:51.784832Z",
     "shell.execute_reply": "2022-04-29T06:08:51.783823Z",
     "shell.execute_reply.started": "2022-04-29T06:08:04.074808Z"
    },
    "tags": []
   },
   "outputs": [],
   "source": [
    "import pandas as pd\n",
    "import numpy as np\n",
    "import nltk\n",
    "import os\n",
    "from nltk import word_tokenize\n",
    "\n",
    "import string\n",
    "def tokenizer_better(text):    \n",
    "    punc_list = string.punctuation+'0123456789'\n",
    "    t = str.maketrans(dict.fromkeys(punc_list, \" \"))\n",
    "    text = text.lower().translate(t)\n",
    "    tokens = word_tokenize(text)\n",
    "    return tokens\n",
    "ROOT_DIR = '/'.join(os.getcwd().split('/')[:-1])\n",
    "df_train = pd.read_csv(f'{ROOT_DIR}/data/discharge/train.csv')\n",
    "\n",
    "from nltk.corpus import stopwords\n",
    "stop=list(stopwords.words('english'))\n",
    "\n",
    "from sklearn.feature_extraction.text import CountVectorizer\n",
    "vect = CountVectorizer(max_features = 5000, stop_words = stop, tokenizer = tokenizer_better)\n",
    "vect.fit(df_train['TEXT'].values)\n",
    "\n",
    "df_test= pd.read_csv(f'{ROOT_DIR}/data/discharge/test.csv')\n",
    "X_train_tf = vect.transform(df_train.TEXT.values)\n",
    "X_test_tf = vect.transform(df_test.TEXT.values)\n",
    "\n",
    "y_train = df_train.Label\n",
    "y_test = df_test.Label\n",
    "\n",
    "from sklearn.linear_model import LogisticRegression\n",
    "clf=LogisticRegression(C = 0.0001, penalty = 'l2', random_state = 42)\n",
    "clf.fit(X_train_tf, y_train)\n",
    "\n",
    "model = clf\n",
    "y_train_preds = model.predict_proba(X_train_tf)[:,1]\n",
    "y_test_preds = model.predict_proba(X_test_tf)[:,1]"
   ]
  },
  {
   "cell_type": "code",
   "execution_count": 11,
   "id": "521f62d5-2df6-49ab-bb34-17a5d32482b9",
   "metadata": {
    "execution": {
     "iopub.execute_input": "2022-04-29T06:08:59.652233Z",
     "iopub.status.busy": "2022-04-29T06:08:59.651770Z",
     "iopub.status.idle": "2022-04-29T06:08:59.660018Z",
     "shell.execute_reply": "2022-04-29T06:08:59.659304Z",
     "shell.execute_reply.started": "2022-04-29T06:08:59.652187Z"
    }
   },
   "outputs": [
    {
     "data": {
      "text/plain": [
       "array([0.47047724, 0.43949609, 0.46887014, ..., 0.51466221, 0.410015  ,\n",
       "       0.44151218])"
      ]
     },
     "execution_count": 11,
     "metadata": {},
     "output_type": "execute_result"
    }
   ],
   "source": [
    "y_test_preds"
   ]
  },
  {
   "cell_type": "code",
   "execution_count": 12,
   "id": "c5840905-93ea-430f-8df4-c6f17e1589a0",
   "metadata": {
    "execution": {
     "iopub.execute_input": "2022-04-29T06:09:05.199531Z",
     "iopub.status.busy": "2022-04-29T06:09:05.198431Z",
     "iopub.status.idle": "2022-04-29T06:09:05.206700Z",
     "shell.execute_reply": "2022-04-29T06:09:05.206054Z",
     "shell.execute_reply.started": "2022-04-29T06:09:05.199454Z"
    }
   },
   "outputs": [
    {
     "data": {
      "text/plain": [
       "array([0.56727596, 0.49694144, 0.44416393, ..., 0.50360344, 0.60456338,\n",
       "       0.56792692])"
      ]
     },
     "execution_count": 12,
     "metadata": {},
     "output_type": "execute_result"
    }
   ],
   "source": [
    "y_train_preds"
   ]
  },
  {
   "cell_type": "code",
   "execution_count": 23,
   "id": "10c450ee-8730-42bd-8565-a710ffb290a7",
   "metadata": {
    "execution": {
     "iopub.execute_input": "2022-04-29T09:20:24.628726Z",
     "iopub.status.busy": "2022-04-29T09:20:24.628150Z",
     "iopub.status.idle": "2022-04-29T09:20:24.637881Z",
     "shell.execute_reply": "2022-04-29T09:20:24.637051Z",
     "shell.execute_reply.started": "2022-04-29T09:20:24.628676Z"
    },
    "tags": []
   },
   "outputs": [],
   "source": [
    "#!pip install nltk\n",
    "import json\n",
    "import nltk\n",
    "local_test = False\n",
    "file_path = f\"{ROOT_DIR}/secrets.json\"\n",
    "if local_test:\n",
    "    tokenizer = AutoTokenizer.from_pretrained('bert-base-uncased')\n",
    "else:\n",
    "    with open(file_path, \"r\") as json_file:\n",
    "        json_data = json.load(json_file)\n",
    "        proxies = json_data['proxies']\n",
    "        nltk.set_proxy(proxy=proxies['http'])"
   ]
  },
  {
   "cell_type": "code",
   "execution_count": 7,
   "id": "e00a5bb4-42a8-4e8d-9a6c-16c3bfdf3ece",
   "metadata": {
    "execution": {
     "iopub.execute_input": "2022-04-29T06:07:42.209290Z",
     "iopub.status.busy": "2022-04-29T06:07:42.208660Z",
     "iopub.status.idle": "2022-04-29T06:07:42.641941Z",
     "shell.execute_reply": "2022-04-29T06:07:42.641164Z",
     "shell.execute_reply.started": "2022-04-29T06:07:42.209222Z"
    }
   },
   "outputs": [
    {
     "name": "stderr",
     "output_type": "stream",
     "text": [
      "[nltk_data] Downloading package stopwords to\n",
      "[nltk_data]     /home/x1112373/nltk_data...\n",
      "[nltk_data]   Unzipping corpora/stopwords.zip.\n"
     ]
    },
    {
     "data": {
      "text/plain": [
       "True"
      ]
     },
     "execution_count": 7,
     "metadata": {},
     "output_type": "execute_result"
    }
   ],
   "source": [
    "nltk.download('stopwords')"
   ]
  },
  {
   "cell_type": "code",
   "execution_count": 9,
   "id": "28134683-0662-4ae7-942e-9c3af1d9315c",
   "metadata": {
    "execution": {
     "iopub.execute_input": "2022-04-29T06:07:57.510888Z",
     "iopub.status.busy": "2022-04-29T06:07:57.510366Z",
     "iopub.status.idle": "2022-04-29T06:07:58.678650Z",
     "shell.execute_reply": "2022-04-29T06:07:58.677986Z",
     "shell.execute_reply.started": "2022-04-29T06:07:57.510840Z"
    }
   },
   "outputs": [
    {
     "name": "stderr",
     "output_type": "stream",
     "text": [
      "[nltk_data] Downloading package punkt to /home/x1112373/nltk_data...\n",
      "[nltk_data]   Unzipping tokenizers/punkt.zip.\n"
     ]
    },
    {
     "data": {
      "text/plain": [
       "True"
      ]
     },
     "execution_count": 9,
     "metadata": {},
     "output_type": "execute_result"
    }
   ],
   "source": [
    "nltk.download('punkt')"
   ]
  },
  {
   "cell_type": "code",
   "execution_count": 17,
   "id": "46fab74b-1d19-41f8-af78-73a72f1a8b1a",
   "metadata": {
    "execution": {
     "iopub.execute_input": "2022-04-29T06:14:07.932166Z",
     "iopub.status.busy": "2022-04-29T06:14:07.931579Z",
     "iopub.status.idle": "2022-04-29T06:14:08.353562Z",
     "shell.execute_reply": "2022-04-29T06:14:08.352955Z",
     "shell.execute_reply.started": "2022-04-29T06:14:07.932117Z"
    },
    "tags": []
   },
   "outputs": [
    {
     "data": {
      "image/png": "[encoded data removed]",
      "text/plain": [
       "<Figure size 432x288 with 1 Axes>"
      ]
     },
     "metadata": {
      "needs_background": "light"
     },
     "output_type": "display_data"
    },
    {
     "name": "stdout",
     "output_type": "stream",
     "text": [
      "Recall at Precision of 80 is {} 0.2103448275862069\n"
     ]
    },
    {
     "data": {
      "text/plain": [
       "<Figure size 432x288 with 0 Axes>"
      ]
     },
     "metadata": {},
     "output_type": "display_data"
    },
    {
     "data": {
      "image/png": "[encoded data removed]",
      "text/plain": [
       "<Figure size 432x288 with 1 Axes>"
      ]
     },
     "metadata": {
      "needs_background": "light"
     },
     "output_type": "display_data"
    }
   ],
   "source": [
    "from modeling_utils import vote_score, pr_curve_plot, vote_pr_curve\n",
    "%matplotlib inline\n",
    "output_dir = f'{ROOT_DIR}output/'\n",
    "fpr, tpr, df_out, roc_auc = vote_score(df_test, y_test_preds, output_dir)\n",
    "pr_auc = pr_curve_plot(df_test['Label'].values, y_test_preds, output_dir)\n",
    "rp80 =  vote_pr_curve(df_test, y_test_preds, output_dir)\n"
   ]
  },
  {
   "cell_type": "code",
   "execution_count": null,
   "id": "8cddd58e-271a-450b-b220-9dab01f046bf",
   "metadata": {},
   "outputs": [],
   "source": []
  }
 ],
 "metadata": {
  "kernelspec": {
   "display_name": "Python 3 (ipykernel)",
   "language": "python",
   "name": "python3"
  },
  "language_info": {
   "codemirror_mode": {
    "name": "ipython",
    "version": 3
   },
   "file_extension": ".py",
   "mimetype": "text/x-python",
   "name": "python",
   "nbconvert_exporter": "python",
   "pygments_lexer": "ipython3",
   "version": "3.8.12"
  }
 },
 "nbformat": 4,
 "nbformat_minor": 5
}
